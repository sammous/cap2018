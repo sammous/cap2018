{
 "cells": [
  {
   "cell_type": "code",
   "execution_count": 1,
   "metadata": {
    "_cell_guid": "b1076dfc-b9ad-4769-8c92-a6c4dae69d19",
    "_uuid": "8f2839f25d086af736a60e9eeb907d3b93b6e0e5"
   },
   "outputs": [],
   "source": [
    "import numpy as np # linear algebra\n",
    "import pandas as pd # data processing, CSV file I/O (e.g. pd.read_csv)\n",
    "import gensim\n",
    "import matplotlib.pyplot as plt\n",
    "from sklearn.feature_extraction.stop_words import ENGLISH_STOP_WORDS as stopwords\n",
    "import seaborn as sns\n",
    "import os\n",
    "import spacy\n",
    "import string\n",
    "import logging\n",
    "logging.basicConfig(format='%(asctime)s : %(levelname)s : %(message)s', level=logging.INFO)"
   ]
  },
  {
   "cell_type": "code",
   "execution_count": 2,
   "metadata": {
    "_cell_guid": "7d8be566-3850-4af3-b1fa-b788df7afd2f",
    "_uuid": "df3660f06c2b7afcdd4303c57251fa2b78779c42"
   },
   "outputs": [],
   "source": [
    "data = pd.read_csv('train_cap2018.csv')"
   ]
  },
  {
   "cell_type": "code",
   "execution_count": 3,
   "metadata": {
    "_cell_guid": "4c1963a4-434d-43f9-9764-03b99a034fec",
    "_uuid": "648f1074a92c109e5523ba8aa47f2ba8e4a04fab"
   },
   "outputs": [
    {
     "data": {
      "text/html": [
       "<div>\n",
       "<style scoped>\n",
       "    .dataframe tbody tr th:only-of-type {\n",
       "        vertical-align: middle;\n",
       "    }\n",
       "\n",
       "    .dataframe tbody tr th {\n",
       "        vertical-align: top;\n",
       "    }\n",
       "\n",
       "    .dataframe thead th {\n",
       "        text-align: right;\n",
       "    }\n",
       "</style>\n",
       "<table border=\"1\" class=\"dataframe\">\n",
       "  <thead>\n",
       "    <tr style=\"text-align: right;\">\n",
       "      <th></th>\n",
       "      <th>fulltext</th>\n",
       "      <th>sentences</th>\n",
       "      <th>words</th>\n",
       "      <th>letters.all</th>\n",
       "      <th>syllables</th>\n",
       "      <th>punct</th>\n",
       "      <th>avg.sentc.length</th>\n",
       "      <th>avg.word.length</th>\n",
       "      <th>avg.syll.word</th>\n",
       "      <th>sntc.per.word</th>\n",
       "      <th>...</th>\n",
       "      <th>Maas lgV0</th>\n",
       "      <th>MATTR</th>\n",
       "      <th>MSTTR</th>\n",
       "      <th>MTLD</th>\n",
       "      <th>Root TTR</th>\n",
       "      <th>Summer</th>\n",
       "      <th>TTR.1</th>\n",
       "      <th>Uber index</th>\n",
       "      <th>Yule's K</th>\n",
       "      <th>level1</th>\n",
       "    </tr>\n",
       "  </thead>\n",
       "  <tbody>\n",
       "    <tr>\n",
       "      <th>24669</th>\n",
       "      <td>\\r\\r\\n      Sherry to contact Alison Bright : ...</td>\n",
       "      <td>2</td>\n",
       "      <td>40</td>\n",
       "      <td>179</td>\n",
       "      <td>56</td>\n",
       "      <td>6</td>\n",
       "      <td>20.000000</td>\n",
       "      <td>4.475000</td>\n",
       "      <td>1.400000</td>\n",
       "      <td>0.050000</td>\n",
       "      <td>...</td>\n",
       "      <td>7.67</td>\n",
       "      <td>NaN</td>\n",
       "      <td>NaN</td>\n",
       "      <td>149.33</td>\n",
       "      <td>5.85</td>\n",
       "      <td>0.95</td>\n",
       "      <td>0.92</td>\n",
       "      <td>75.80</td>\n",
       "      <td>37.50</td>\n",
       "      <td>A1</td>\n",
       "    </tr>\n",
       "    <tr>\n",
       "      <th>9988</th>\n",
       "      <td>\\r\\r\\n      In my country, France, the nature ...</td>\n",
       "      <td>8</td>\n",
       "      <td>82</td>\n",
       "      <td>333</td>\n",
       "      <td>105</td>\n",
       "      <td>15</td>\n",
       "      <td>10.250000</td>\n",
       "      <td>4.060976</td>\n",
       "      <td>1.280488</td>\n",
       "      <td>0.097561</td>\n",
       "      <td>...</td>\n",
       "      <td>5.66</td>\n",
       "      <td>NaN</td>\n",
       "      <td>NaN</td>\n",
       "      <td>110.75</td>\n",
       "      <td>7.18</td>\n",
       "      <td>0.92</td>\n",
       "      <td>0.79</td>\n",
       "      <td>36.30</td>\n",
       "      <td>104.10</td>\n",
       "      <td>A2</td>\n",
       "    </tr>\n",
       "    <tr>\n",
       "      <th>23216</th>\n",
       "      <td>\\r\\r\\n      Dear My freind, In my country , so...</td>\n",
       "      <td>7</td>\n",
       "      <td>67</td>\n",
       "      <td>253</td>\n",
       "      <td>78</td>\n",
       "      <td>15</td>\n",
       "      <td>9.571429</td>\n",
       "      <td>3.776119</td>\n",
       "      <td>1.164179</td>\n",
       "      <td>0.104478</td>\n",
       "      <td>...</td>\n",
       "      <td>4.31</td>\n",
       "      <td>NaN</td>\n",
       "      <td>NaN</td>\n",
       "      <td>55.18</td>\n",
       "      <td>5.86</td>\n",
       "      <td>0.86</td>\n",
       "      <td>0.72</td>\n",
       "      <td>23.02</td>\n",
       "      <td>120.29</td>\n",
       "      <td>A1</td>\n",
       "    </tr>\n",
       "    <tr>\n",
       "      <th>20498</th>\n",
       "      <td>\\r\\r\\n      Name : Elisabeth Corret Age : 50 H...</td>\n",
       "      <td>3</td>\n",
       "      <td>22</td>\n",
       "      <td>62</td>\n",
       "      <td>27</td>\n",
       "      <td>14</td>\n",
       "      <td>7.333333</td>\n",
       "      <td>2.818182</td>\n",
       "      <td>1.227273</td>\n",
       "      <td>0.136364</td>\n",
       "      <td>...</td>\n",
       "      <td>3.08</td>\n",
       "      <td>NaN</td>\n",
       "      <td>NaN</td>\n",
       "      <td>14.62</td>\n",
       "      <td>3.62</td>\n",
       "      <td>0.70</td>\n",
       "      <td>0.77</td>\n",
       "      <td>16.09</td>\n",
       "      <td>454.55</td>\n",
       "      <td>A1</td>\n",
       "    </tr>\n",
       "    <tr>\n",
       "      <th>3996</th>\n",
       "      <td>\\r\\r\\n      I just listened this song who is w...</td>\n",
       "      <td>8</td>\n",
       "      <td>94</td>\n",
       "      <td>370</td>\n",
       "      <td>123</td>\n",
       "      <td>13</td>\n",
       "      <td>11.750000</td>\n",
       "      <td>3.936170</td>\n",
       "      <td>1.308511</td>\n",
       "      <td>0.085106</td>\n",
       "      <td>...</td>\n",
       "      <td>3.69</td>\n",
       "      <td>NaN</td>\n",
       "      <td>NaN</td>\n",
       "      <td>42.96</td>\n",
       "      <td>5.67</td>\n",
       "      <td>0.82</td>\n",
       "      <td>0.59</td>\n",
       "      <td>16.73</td>\n",
       "      <td>203.71</td>\n",
       "      <td>B1</td>\n",
       "    </tr>\n",
       "  </tbody>\n",
       "</table>\n",
       "<p>5 rows × 60 columns</p>\n",
       "</div>"
      ],
      "text/plain": [
       "                                                fulltext  sentences  words  \\\n",
       "24669  \\r\\r\\n      Sherry to contact Alison Bright : ...          2     40   \n",
       "9988   \\r\\r\\n      In my country, France, the nature ...          8     82   \n",
       "23216  \\r\\r\\n      Dear My freind, In my country , so...          7     67   \n",
       "20498  \\r\\r\\n      Name : Elisabeth Corret Age : 50 H...          3     22   \n",
       "3996   \\r\\r\\n      I just listened this song who is w...          8     94   \n",
       "\n",
       "       letters.all  syllables  punct  avg.sentc.length  avg.word.length  \\\n",
       "24669          179         56      6         20.000000         4.475000   \n",
       "9988           333        105     15         10.250000         4.060976   \n",
       "23216          253         78     15          9.571429         3.776119   \n",
       "20498           62         27     14          7.333333         2.818182   \n",
       "3996           370        123     13         11.750000         3.936170   \n",
       "\n",
       "       avg.syll.word  sntc.per.word   ...    Maas lgV0  MATTR  MSTTR    MTLD  \\\n",
       "24669       1.400000       0.050000   ...         7.67    NaN    NaN  149.33   \n",
       "9988        1.280488       0.097561   ...         5.66    NaN    NaN  110.75   \n",
       "23216       1.164179       0.104478   ...         4.31    NaN    NaN   55.18   \n",
       "20498       1.227273       0.136364   ...         3.08    NaN    NaN   14.62   \n",
       "3996        1.308511       0.085106   ...         3.69    NaN    NaN   42.96   \n",
       "\n",
       "       Root TTR  Summer  TTR.1  Uber index  Yule's K  level1  \n",
       "24669      5.85    0.95   0.92       75.80     37.50      A1  \n",
       "9988       7.18    0.92   0.79       36.30    104.10      A2  \n",
       "23216      5.86    0.86   0.72       23.02    120.29      A1  \n",
       "20498      3.62    0.70   0.77       16.09    454.55      A1  \n",
       "3996       5.67    0.82   0.59       16.73    203.71      B1  \n",
       "\n",
       "[5 rows x 60 columns]"
      ]
     },
     "execution_count": 3,
     "metadata": {},
     "output_type": "execute_result"
    }
   ],
   "source": [
    "data.sample(5)"
   ]
  },
  {
   "cell_type": "code",
   "execution_count": 4,
   "metadata": {
    "_cell_guid": "403572a3-a0af-4ff8-9633-dde1f02b433e",
    "_uuid": "cad35ed3a563d25940a2be0cbf485f3cdc4a0246"
   },
   "outputs": [],
   "source": [
    "data['tokens_gensim'] = data.fulltext.apply(lambda x: gensim.utils.simple_preprocess(x))"
   ]
  },
  {
   "cell_type": "code",
   "execution_count": 6,
   "metadata": {
    "_cell_guid": "af400fa0-8c7a-4055-8512-7657944d625e",
    "_kg_hide-input": false,
    "_kg_hide-output": false,
    "_uuid": "651c035ba37d9e7942c0f3adb3aa653df893e574"
   },
   "outputs": [],
   "source": [
    "punctuations = string.punctuation\n",
    "nlp = spacy.load('en_core_web_lg')\n",
    "\n",
    "# Define function to cleanup text by removing personal pronouns, stopwords, and puncuation\n",
    "def cleanup_text(docs, logging=False):\n",
    "    texts = []\n",
    "    counter = 1\n",
    "    for doc in docs:\n",
    "        if counter % 1000 == 0 and logging:\n",
    "            print(\"Processed %d out of %d documents.\" % (counter, len(docs)))\n",
    "        counter += 1\n",
    "        doc = nlp(doc, disable=['parser', 'ner'])\n",
    "        tokens = [tok.lemma_.lower().strip() for tok in doc if tok.lemma_ != '-PRON-']\n",
    "        tokens = [tok for tok in tokens if tok not in stopwords and tok not in punctuations]\n",
    "        tokens = ' '.join(tokens)\n",
    "        texts.append(tokens)\n",
    "    return pd.Series(texts)"
   ]
  },
  {
   "cell_type": "code",
   "execution_count": 7,
   "metadata": {
    "_cell_guid": "1296f5c1-5537-4edd-8515-ab8cd86f7061",
    "_uuid": "0741f81b9a442ee64b2a4a7bca2295de68cfb0ef",
    "scrolled": false
   },
   "outputs": [
    {
     "name": "stdout",
     "output_type": "stream",
     "text": [
      "Processed 1000 out of 27310 documents.\n",
      "Processed 2000 out of 27310 documents.\n",
      "Processed 3000 out of 27310 documents.\n",
      "Processed 4000 out of 27310 documents.\n",
      "Processed 5000 out of 27310 documents.\n",
      "Processed 6000 out of 27310 documents.\n",
      "Processed 7000 out of 27310 documents.\n",
      "Processed 8000 out of 27310 documents.\n",
      "Processed 9000 out of 27310 documents.\n",
      "Processed 10000 out of 27310 documents.\n",
      "Processed 11000 out of 27310 documents.\n",
      "Processed 12000 out of 27310 documents.\n",
      "Processed 13000 out of 27310 documents.\n",
      "Processed 14000 out of 27310 documents.\n",
      "Processed 15000 out of 27310 documents.\n",
      "Processed 16000 out of 27310 documents.\n",
      "Processed 17000 out of 27310 documents.\n",
      "Processed 18000 out of 27310 documents.\n",
      "Processed 19000 out of 27310 documents.\n",
      "Processed 20000 out of 27310 documents.\n",
      "Processed 21000 out of 27310 documents.\n",
      "Processed 22000 out of 27310 documents.\n",
      "Processed 23000 out of 27310 documents.\n",
      "Processed 24000 out of 27310 documents.\n",
      "Processed 25000 out of 27310 documents.\n",
      "Processed 26000 out of 27310 documents.\n",
      "Processed 27000 out of 27310 documents.\n",
      "Processed all documents in 5.012398890654246 mins\n"
     ]
    }
   ],
   "source": [
    "import time\n",
    "start = time.time()\n",
    "fulltext_cleaned = cleanup_text(data.fulltext, logging=True)\n",
    "end = time.time()\n",
    "print(\"Processed all documents in {} mins\".format((end-start)/60))"
   ]
  },
  {
   "cell_type": "code",
   "execution_count": 8,
   "metadata": {
    "_cell_guid": "8270a624-b080-4237-8c90-0f9a46d82a73",
    "_uuid": "5a89c737b2ba974c39c05ce6b752e0ade22661ce"
   },
   "outputs": [],
   "source": [
    "data[\"spacy_text\"] = fulltext_cleaned\n",
    "\n",
    "c2_text = [txt for txt in data[data[\"level1\"] == 'C2'][\"spacy_text\"]]\n",
    "c1_text = [txt for txt in data[data[\"level1\"] == 'C1'][\"spacy_text\"]]\n",
    "b2_text = [txt for txt in data[data[\"level1\"] == 'B2'][\"spacy_text\"]]\n",
    "b1_text = [txt for txt in data[data[\"level1\"] == 'B1'][\"spacy_text\"]]\n",
    "a2_text = [txt for txt in data[data[\"level1\"] == 'A2'][\"spacy_text\"]]\n",
    "a1_text = [txt for txt in data[data[\"level1\"] == 'A1'][\"spacy_text\"]]"
   ]
  },
  {
   "cell_type": "code",
   "execution_count": 9,
   "metadata": {
    "_cell_guid": "34b54ffd-01a9-486a-ad6e-0f57cf402a74",
    "_uuid": "76f0aa8557f6fe821dde1e2803be4a909908eef7"
   },
   "outputs": [],
   "source": [
    "from collections import Counter\n",
    "\n",
    "#count all unique words\n",
    "c2_count_words = Counter(' '.join(c2_text).split())\n",
    "c1_count_words = Counter(' '.join(c1_text).split())\n",
    "b2_count_words = Counter(' '.join(b2_text).split())\n",
    "b1_count_words = Counter(' '.join(b1_text).split())\n",
    "a2_count_words = Counter(' '.join(a2_text).split())\n",
    "a1_count_words = Counter(' '.join(a1_text).split())\n",
    "\n",
    "c2_common_words = [word[0] for word in c2_count_words.most_common(25)]\n",
    "c2_common_count = [word[1] for word in c2_count_words.most_common(25)]\n",
    "\n",
    "c1_common_words = [word[0] for word in c1_count_words.most_common(25)]\n",
    "c1_common_count = [word[1] for word in c1_count_words.most_common(25)]\n",
    "\n",
    "b2_common_words = [word[0] for word in b2_count_words.most_common(25)]\n",
    "b2_common_count = [word[1] for word in b2_count_words.most_common(25)]\n",
    "\n",
    "b1_common_words = [word[0] for word in b1_count_words.most_common(25)]\n",
    "b1_common_count = [word[1] for word in b1_count_words.most_common(25)]\n",
    "\n",
    "a2_common_words = [word[0] for word in a2_count_words.most_common(25)]\n",
    "a2_common_count = [word[1] for word in a2_count_words.most_common(25)]\n",
    "\n",
    "a1_common_words = [word[0] for word in a1_count_words.most_common(25)]\n",
    "a1_common_count = [word[1] for word in a1_count_words.most_common(25)]"
   ]
  },
  {
   "cell_type": "code",
   "execution_count": 12,
   "metadata": {
    "_cell_guid": "f72c28af-50e6-4fa5-80e3-ef3df82a91d5",
    "_uuid": "110297c038f83a19dd8b17b2dc83b337e0169af3"
   },
   "outputs": [
    {
     "data": {
      "image/png": "[encoded data removed]",
      "text/plain": [
       "<Figure size 2160x1440 with 6 Axes>"
      ]
     },
     "metadata": {},
     "output_type": "display_data"
    }
   ],
   "source": [
    "sns.set_context('notebook')\n",
    "couples = [(c2_common_words, c2_common_count), \n",
    "           (c1_common_words, c1_common_count),\n",
    "           (b2_common_words, b2_common_count),\n",
    "           (b1_common_words, b1_common_count),\n",
    "           (a2_common_words, a2_common_count),\n",
    "           (a1_common_words, a1_common_count)]\n",
    "fig=plt.figure(figsize=(30, 20))\n",
    "ax1 = fig.add_subplot(321)\n",
    "sns.barplot(x=c2_common_words, y=c2_common_count,ax=ax1)\n",
    "plt.title('Most Common Words used by C2 Levels')\n",
    "ax2 = fig.add_subplot(322)\n",
    "sns.barplot(x=c1_common_words, y=c1_common_count, ax=ax2)\n",
    "plt.title('Most Common Words used by C1 Levels')\n",
    "ax3 = fig.add_subplot(323)\n",
    "sns.barplot(x=b2_common_words, y=b2_common_count, ax=ax3)\n",
    "plt.title('Most Common Words used by B2 Levels')\n",
    "ax4 = fig.add_subplot(324)\n",
    "sns.barplot(x=b1_common_words, y=b1_common_count, ax=ax4)\n",
    "plt.title('Most Common Words used by B1 Levels')\n",
    "ax5 = fig.add_subplot(325)\n",
    "sns.barplot(x=a2_common_words, y=a2_common_count, ax=ax5)\n",
    "plt.title('Most Common Words used by A2 Levels')\n",
    "ax6 = fig.add_subplot(326)\n",
    "sns.barplot(x=a1_common_words, y=a1_common_count, ax=ax6)\n",
    "plt.title('Most Common Words used by A1 Levels')\n",
    "\n",
    "\n",
    "plt.show()"
   ]
  },
  {
   "cell_type": "code",
   "execution_count": 13,
   "metadata": {
    "_cell_guid": "759018a4-6c8e-48cd-91b5-f8c8731193e5",
    "_uuid": "af33c860c36ccae4b89a840169b107869b6aaeef"
   },
   "outputs": [
    {
     "name": "stdout",
     "output_type": "stream",
     "text": [
      "\r",
      "\r\n",
      "      Je m'appelle Victoire, je suis ge de 47 ans. En ce moment je suis sans emploi. J'aimerais matriser l'anglais que j'adore. J'ai un bac pro secrtariat et un dipl'me d'tat d'auxiliaire. Je m'exerce toujours en anglais, mais cela reste du basic. Merci d'avance\r",
      "\r\n",
      "\n"
     ]
    }
   ],
   "source": [
    "#Spam..\n",
    "print(data.loc[27291,:]['fulltext'])"
   ]
  }
 ],
 "metadata": {
  "kernelspec": {
   "display_name": "Python 3",
   "language": "python",
   "name": "python3"
  },
  "language_info": {
   "codemirror_mode": {
    "name": "ipython",
    "version": 3
   },
   "file_extension": ".py",
   "mimetype": "text/x-python",
   "name": "python",
   "nbconvert_exporter": "python",
   "pygments_lexer": "ipython3",
   "version": "3.5.2"
  }
 },
 "nbformat": 4,
 "nbformat_minor": 1
}
